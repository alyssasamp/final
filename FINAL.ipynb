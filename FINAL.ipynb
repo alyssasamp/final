{
 "cells": [
  {
   "cell_type": "markdown",
   "id": "984d2af8",
   "metadata": {},
   "source": [
    "# Problem 1 - \n",
    "Perform the following operations using a combination of Python functions, string methods, and math capabilities.\n",
    "\n",
    "Determine the length of the string.\n",
    "Determine if this length is evenly divisible by 5.\n",
    "Create and store a new version of the string in a newly named variable that removes any spaces at the end or the beginning of the string.\n",
    "Using string you created in step 2, store the first 5 characters of the string in a new variable.\n",
    "Using the string you created in step 4, append 59 'o' characters to the string and print out the result."
   ]
  },
  {
   "cell_type": "code",
   "execution_count": null,
   "id": "026cd89a",
   "metadata": {},
   "outputs": [],
   "source": [
    "greeting = \"Hello, little people of Earth!\"\n",
    "# find out length \n",
    "length = len(greeting)\n",
    "\n",
    "#Is it evenly divisible by 5 \n",
    "divisibeby5 = length % 5 == 0 \n",
    "\n",
    "#newly named string \n",
    "\n"
   ]
  }
 ],
 "metadata": {
  "kernelspec": {
   "display_name": "Python 3 (ipykernel)",
   "language": "python",
   "name": "python3"
  },
  "language_info": {
   "codemirror_mode": {
    "name": "ipython",
    "version": 3
   },
   "file_extension": ".py",
   "mimetype": "text/x-python",
   "name": "python",
   "nbconvert_exporter": "python",
   "pygments_lexer": "ipython3",
   "version": "3.10.9"
  }
 },
 "nbformat": 4,
 "nbformat_minor": 5
}
