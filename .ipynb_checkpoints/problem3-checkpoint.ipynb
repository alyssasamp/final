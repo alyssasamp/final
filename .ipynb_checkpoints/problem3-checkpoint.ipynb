{
 "cells": [
  {
   "cell_type": "markdown",
   "id": "3c4e76c0",
   "metadata": {},
   "source": [
    "# Problem 3 -\n",
    "Please create two classes that implement all of the names, data attributes, and methods reflected in the following UML diagram. These classes will be used within an inventory management system for ACME Eyewear.\n",
    "\n",
    "The __str__() method in both classes should create a reasonable string representation for use in calls to the Python print() function.\n",
    "\n"
   ]
  },
  {
   "cell_type": "code",
   "execution_count": 12,
   "id": "9b3b223b",
   "metadata": {},
   "outputs": [
    {
     "ename": "SyntaxError",
     "evalue": "invalid syntax (2749010009.py, line 27)",
     "output_type": "error",
     "traceback": [
      "\u001b[0;36m  Cell \u001b[0;32mIn[12], line 27\u001b[0;36m\u001b[0m\n\u001b[0;31m    super().__init__(color, price, prescription):\u001b[0m\n\u001b[0m                                                ^\u001b[0m\n\u001b[0;31mSyntaxError\u001b[0m\u001b[0;31m:\u001b[0m invalid syntax\n"
     ]
    }
   ],
   "source": [
    "class Glasses: \n",
    "    def __init__ (self, color, price, prescription):\n",
    "        self.color= color\n",
    "        self.price= price\n",
    "        self.prescription= prescription\n",
    "    def set_price(self, price):\n",
    "        self.price= price\n",
    "        \n",
    "    def set_color(self, color):\n",
    "        self.color= color\n",
    "        \n",
    "    def set_prescription(self, prescription):\n",
    "        self.prescription= prescription\n",
    "        \n",
    "    def get_price(self):\n",
    "        return self.price\n",
    "    def get_color(self):\n",
    "        return self.color\n",
    "    def get_prescription(self):\n",
    "        return self.prescription\n",
    "        \n",
    "        def __str__(self):\n",
    "            return f\"{self.color} {self.price} {self.prescription}\"\n",
    "            \n",
    "class Bifocals(Glasses):\n",
    "    def __init__(self, color, price, prescription, reading_prescription):\n",
    "        super().__init__(color, price, prescription):\n",
    "            self.reading_prescription= reading_prescription\n",
    "            \n",
    "    def set_reading_prescription(self, reading_prescription):\n",
    "         self.reading_prescription= reading_prescription\n",
    "    def get_reading_prescription(self):\n",
    "        return reading_prescription\n",
    "    \n",
    "    def __str__(self):\n",
    "        return super().__str__() + f\", reading_prescription: {self.reading_prescription}\"\n",
    "\n",
    "\n"
   ]
  },
  {
   "cell_type": "code",
   "execution_count": null,
   "id": "647f4abb",
   "metadata": {},
   "outputs": [],
   "source": []
  }
 ],
 "metadata": {
  "kernelspec": {
   "display_name": "Python 3 (ipykernel)",
   "language": "python",
   "name": "python3"
  },
  "language_info": {
   "codemirror_mode": {
    "name": "ipython",
    "version": 3
   },
   "file_extension": ".py",
   "mimetype": "text/x-python",
   "name": "python",
   "nbconvert_exporter": "python",
   "pygments_lexer": "ipython3",
   "version": "3.10.9"
  }
 },
 "nbformat": 4,
 "nbformat_minor": 5
}
