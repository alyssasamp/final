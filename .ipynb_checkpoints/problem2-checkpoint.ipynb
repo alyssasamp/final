{
 "cells": [
  {
   "cell_type": "markdown",
   "id": "a258a1cf",
   "metadata": {},
   "source": [
    "# Problem 2 \n",
    "Please define a function named wow_kazow that accepts a number and then returns one of the following values:\n",
    "\n",
    "The function returns \"wow\" if the number is evenly divisible by 5.\n",
    "The function returns \"kazow\" if the number is evenly divisible by 7.\n",
    "The function returns \"wowkazow\" if the number is evenly divisible by 5 and 7.\n",
    "The function returns the number it was originally passed if the number is not divisible by either 5 or 7.\n",
    "Finally, please define a main function that loops through numbers 41 through 89 (inclusive) as inputs to the wow_kazow function and prints each of the results. Your instructor will call this main method to test your solution.\n",
    "\n"
   ]
  },
  {
   "cell_type": "code",
   "execution_count": null,
   "id": "22d1e208",
   "metadata": {},
   "outputs": [],
   "source": [
    "def wow_kazow(number):\n",
    "    if number % 5 == 0 :\n",
    "        return \"wow\"\n",
    "    elif number % 7 == 0 :\n",
    "        return \"kazow\"\n",
    "    elif number % 5 and number % 7 == 0 :\n",
    "        return \"wowkazow\"\n",
    "    else: \n",
    "        return number \n",
    "    "
   ]
  }
 ],
 "metadata": {
  "kernelspec": {
   "display_name": "Python 3 (ipykernel)",
   "language": "python",
   "name": "python3"
  },
  "language_info": {
   "codemirror_mode": {
    "name": "ipython",
    "version": 3
   },
   "file_extension": ".py",
   "mimetype": "text/x-python",
   "name": "python",
   "nbconvert_exporter": "python",
   "pygments_lexer": "ipython3",
   "version": "3.10.9"
  }
 },
 "nbformat": 4,
 "nbformat_minor": 5
}
