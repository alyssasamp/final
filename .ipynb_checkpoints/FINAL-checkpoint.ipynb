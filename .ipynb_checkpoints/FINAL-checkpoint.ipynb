{
 "cells": [
  {
   "cell_type": "markdown",
   "id": "4bbaa235",
   "metadata": {},
   "source": [
    "# Problem 1 - \n",
    "Perform the following operations using a combination of Python functions, string methods, and math capabilities.\n",
    "\n",
    "Determine the length of the string.\n",
    "Determine if this length is evenly divisible by 5.\n",
    "Create and store a new version of the string in a newly named variable that removes any spaces at the end or the beginning of the string.\n",
    "Using string you created in step 2, store the first 5 characters of the string in a new variable.\n",
    "Using the string you created in step 4, append 59 'o' characters to the string and print out the result."
   ]
  },
  {
   "cell_type": "code",
   "execution_count": 3,
   "id": "868cd3a0",
   "metadata": {},
   "outputs": [
    {
     "name": "stdout",
     "output_type": "stream",
     "text": [
      "Helloooooooooooooooooooooooooooooooooooooooooooooooooooooooooooo\n"
     ]
    }
   ],
   "source": [
    "def main():\n",
    "    greeting = \"Hello, little people of Earth!\"\n",
    "# find out length \n",
    "    length = len(greeting)\n",
    "\n",
    "#Is it evenly divisible by 5 \n",
    "    divisibeby5 = length % 5 == 0 \n",
    "\n",
    "#newly named string \n",
    "    greeting2= greeting.strip()\n",
    "\n",
    "#first 5 characters \n",
    "    fivecharacters= greeting2[:5]\n",
    "\n",
    "#append 59 characters\n",
    "    appendcharacters= fivecharacters + 'o' * 59\n",
    "\n",
    "#Print this\n",
    "    print(appendcharacters)\n",
    "if __name__==\"__main__\":\n",
    "    main()"
   ]
  },
  {
   "cell_type": "code",
   "execution_count": null,
   "id": "8d652719",
   "metadata": {},
   "outputs": [],
   "source": []
  }
 ],
 "metadata": {
  "kernelspec": {
   "display_name": "Python 3 (ipykernel)",
   "language": "python",
   "name": "python3"
  },
  "language_info": {
   "codemirror_mode": {
    "name": "ipython",
    "version": 3
   },
   "file_extension": ".py",
   "mimetype": "text/x-python",
   "name": "python",
   "nbconvert_exporter": "python",
   "pygments_lexer": "ipython3",
   "version": "3.10.9"
  }
 },
 "nbformat": 4,
 "nbformat_minor": 5
}
